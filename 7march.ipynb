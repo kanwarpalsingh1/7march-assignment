{
 "cells": [
  {
   "cell_type": "markdown",
   "id": "5799b42a-3859-4bf1-a938-161eee59fa2a",
   "metadata": {},
   "source": [
    "\n",
    "Q1. What are the three measures of central tendency?\n",
    "\n",
    "The three measures of central tendency are:\n",
    "\n",
    "Mean\n",
    "Median\n",
    "Mode"
   ]
  },
  {
   "cell_type": "markdown",
   "id": "d4b48499-4609-42b5-a2d0-4d74556c44cd",
   "metadata": {},
   "source": [
    "Q2. What is the difference between the mean, median, and mode? How are they used to measure the central tendency of a dataset?\n",
    "\n",
    "Mean: The mean is the average of all the values in a dataset. It is calculated by summing up all the values and dividing by the number of values. The mean provides a measure of the \"typical\" value in a dataset.\n",
    "\n",
    "Median: The median is the middle value of a dataset when it is ordered from least to greatest. If there is an even number of values, the median is the average of the two middle values. The median provides a measure of the \"middle\" value that separates the higher and lower values in a dataset.\n",
    "\n",
    "Mode: The mode is the value that appears most frequently in a dataset. It represents the most common value or values in the dataset.\n",
    "\n",
    "These measures are used to summarize the central tendency of a dataset and provide insight into the typical, middle, or most common values within the data.\n",
    "\n"
   ]
  },
  {
   "cell_type": "markdown",
   "id": "f4a30c5d-9826-4114-b4ed-15161b4a7745",
   "metadata": {},
   "source": [
    "Q3. Measure the three measures of central tendency for the given height data: [178,177,176,177,178.2,178,175,179,180,175,178.9,176.2,177,172.5,178,176.5]\n",
    "\n",
    "Mean: \n",
    "Mean\n",
    "=\n",
    "178\n",
    "+\n",
    "177\n",
    "+\n",
    "176\n",
    "+\n",
    "…\n",
    "+\n",
    "176.5\n",
    "15\n",
    "Mean= \n",
    "15\n",
    "178+177+176+…+176.5\n",
    "​\n",
    " \n",
    "Median: Arrange the data in ascending order and find the middle value. If there are two middle values, take the average of them.\n",
    "Mode: Identify the value that appears most frequently in the dataset."
   ]
  },
  {
   "cell_type": "markdown",
   "id": "558220d9-2237-4b75-b0a7-ba44bacb69e4",
   "metadata": {},
   "source": [
    "Q4. Find the standard deviation for the given data: [178,177,176,177,178.2,178,175,179,180,175,178.9,176.2,177,172.5,178,176.5]\n",
    "\n",
    "Standard deviation is a measure of the dispersion or spread of a dataset. It indicates how much the values in the dataset deviate from the mean.\n",
    "\n",
    "Q5. How are measures of dispersion such as range, variance, and standard deviation used to describe the spread of a dataset? Provide an example.\n",
    "\n",
    "Measures of dispersion provide information about the spread or variability of data points in a dataset. They quantify the extent to which the values differ from each other.\n",
    "\n",
    "Range: The range is the difference between the maximum and minimum values in a dataset. It provides a simple measure of the spread of data but is sensitive to outliers.\n",
    "Variance: Variance measures the average squared deviation of each data point from the mean. It provides a more precise measure of spread compared to the range.\n",
    "Standard Deviation: Standard deviation is the square root of the variance. It measures the average deviation of data points from the mean, providing a standardized measure of spread.\n",
    "For example, consider the following dataset of exam scores: [70, 75, 80, 85, 90]. The range is 20 (90 - 70). The variance is calculated as \n",
    "(\n",
    "70\n",
    "−\n",
    "�\n",
    ")\n",
    "2\n",
    "+\n",
    "(\n",
    "75\n",
    "−\n",
    "�\n",
    ")\n",
    "2\n",
    "+\n",
    "…\n",
    "+\n",
    "(\n",
    "90\n",
    "−\n",
    "�\n",
    ")\n",
    "2\n",
    "�\n",
    "n\n",
    "(70−μ) \n",
    "2\n",
    " +(75−μ) \n",
    "2\n",
    " +…+(90−μ) \n",
    "2\n",
    " \n",
    "​\n",
    " , where \n",
    "�\n",
    "μ is the mean of the dataset. The standard deviation is the square root of the variance.\n",
    "\n"
   ]
  },
  {
   "cell_type": "markdown",
   "id": "dc1c072d-5a34-46db-b9d4-8fb1dfe38efd",
   "metadata": {},
   "source": [
    "Q6. What is a Venn diagram?\n",
    "\n",
    "A Venn diagram is a graphical representation of the relationships between different sets or groups of objects. It consists of overlapping circles or other shapes, each representing a set, with the overlapping areas representing the intersection of the sets.\n",
    "\n"
   ]
  },
  {
   "cell_type": "markdown",
   "id": "feb64ed1-07f3-4675-a575-6c931e09c7b7",
   "metadata": {},
   "source": [
    "Q7. For the two given sets A = (2,3,4,5,6,7) & B = (0,2,6,8,10). Find:\n",
    "(i) \n",
    "�\n",
    "∩\n",
    "�\n",
    "A∩B (Intersection)\n",
    "(ii) \n",
    "�\n",
    "∪\n",
    "�\n",
    "A∪B (Union)\n",
    "\n",
    "(i) \n",
    "�\n",
    "∩\n",
    "�\n",
    "A∩B (Intersection) represents the elements that are common to both sets A and B. In this case, the intersection is {2, 6}.\n",
    "(ii) \n",
    "�\n",
    "∪\n",
    "�\n",
    "A∪B (Union) represents all the elements that are in either set A or set B, or both. In this case, the union is {0, 2, 3, 4, 5, 6, 7, 8, 10}.\n",
    "\n"
   ]
  },
  {
   "cell_type": "markdown",
   "id": "1c42b342-e8ad-4430-9f56-1805fd5d6136",
   "metadata": {},
   "source": [
    "Q8. What do you understand about skewness in data?\n",
    "\n",
    "Skewness is a measure of the asymmetry of the probability distribution of a real-valued random variable about its mean. A dataset is said to be skewed if the distribution of its values is not symmetrical. Skewness can be positive, negative, or zero.\n",
    "\n"
   ]
  },
  {
   "cell_type": "markdown",
   "id": "e0e2f4b4-8939-474b-aff8-4d1fee738ce6",
   "metadata": {},
   "source": [
    "Q9. If a data is right skewed then what will be the position of median with respect to mean?\n",
    "\n",
    "If a dataset is right-skewed (positively skewed), it means that the right tail of the distribution is longer or stretched out compared to the left tail. In a right-skewed distribution, the median will be less than the mean because the presence of outliers or extremely high values pulls the mean towards the right.\n",
    "\n",
    "\n"
   ]
  },
  {
   "cell_type": "markdown",
   "id": "c4a89de9-4209-475c-b2cf-347750d8501e",
   "metadata": {},
   "source": [
    "Q11. What is the formula for calculating the sample mean? Provide an example calculation for a dataset.\n",
    "\n",
    "The formula for calculating the sample mean ( � ˉ x ˉ ) is:\n",
    "\n",
    "� ˉ = ∑ � = 1 � � � � x ˉ = n ∑ i=1 n​x i​\n",
    "\n",
    "​\n",
    "\n",
    "where � � x i​are the individual data points and � n is the number of data points.\n",
    "\n",
    "Example: Consider the dataset: {10, 15, 20, 25, 30}. � ˉ = 10 + 15 + 20 + 25 + 30 5 = 100 5 = 20 x ˉ = 5 10+15+20+25+30​= 5 100​=20"
   ]
  },
  {
   "cell_type": "markdown",
   "id": "10fc9d45-f7dc-47fe-af0e-b585a485eaf5",
   "metadata": {},
   "source": [
    "Q10. Explain the difference between covariance and correlation. How are these measures used in statistical analysis?\n",
    "\n",
    "Covariance: Covariance is a measure of the joint variability of two random variables. It indicates the degree to which two variables change together. A positive covariance indicates a direct relationship (both variables increase or decrease together), while a negative covariance indicates an inverse relationship (one variable increases as the other decreases).\n",
    "\n",
    "Correlation: Correlation is a standardized measure of the strength and direction of the linear relationship between two variables. It ranges from -1 to 1, where 1 indicates a perfect positive correlation, -1 indicates a perfect negative correlation, and 0 indicates no linear correlation.\n",
    "\n",
    "Both covariance and correlation are used in statistical analysis to study the relationship between variables. Correlation is preferred over covariance because it is scale-independent and easier to interpret.\n"
   ]
  },
  {
   "cell_type": "markdown",
   "id": "e66d769f-1be5-409f-8162-db873eefc095",
   "metadata": {},
   "source": [
    "Q12. For a normal distribution data what is the relationship between its measure of central tendency?\n",
    "\n",
    "For a normal distribution, the mean, median, and mode are all equal. They all coincide at the center of the distribution, which is the highest point of the symmetric bell-shaped curve.\n",
    "\n",
    "\n"
   ]
  },
  {
   "cell_type": "markdown",
   "id": "d3d032f9-dc71-4aef-a539-272296f9f483",
   "metadata": {},
   "source": [
    "Q13. How is covariance different from correlation?\n",
    "\n",
    "Covariance measures the direction and strength of the relationship between two variables, but it does not provide a standardized measure, making it difficult to compare the relationships between different pairs of variables. Correlation, on the other hand, standardizes the measure of the relationship between two variables, making it easier to interpret and compare. Correlation ranges from -1 to 1, where 1 indicates a perfect positive correlation, -1 indicates a perfect negative correlation, and 0 indicates no linear correlation.\n",
    "\n"
   ]
  },
  {
   "cell_type": "markdown",
   "id": "d5141d02-5e6a-4c38-a98b-9b17d755ef15",
   "metadata": {},
   "source": [
    "Q14. How do outliers affect measures of central tendency and dispersion? Provide an example.\n",
    "\n",
    "Outliers can significantly affect measures of central tendency and dispersion. Central tendency measures such as the mean can be heavily influenced by outliers, pulling the mean towards them. This can result in a misleading representation of the typical value in the dataset. Similarly, measures of dispersion such as the range, variance, and standard deviation can be greatly affected by outliers, leading to an overestimation or underestimation of the spread of the data.\n",
    "\n",
    "For example, consider the dataset: {10, 15, 20, 25, 500}. The presence of the outlier 500 significantly inflates the mean, making it higher than the typical values in the dataset. Additionally, the outlier increases the range and standard deviation, making it appear that the data is more spread out than it actually is.\n",
    "\n",
    "\n",
    "\n",
    "\n"
   ]
  },
  {
   "cell_type": "code",
   "execution_count": null,
   "id": "fbd61d22-1e7c-424b-adc0-02748ad81b87",
   "metadata": {},
   "outputs": [],
   "source": []
  }
 ],
 "metadata": {
  "kernelspec": {
   "display_name": "Python 3 (ipykernel)",
   "language": "python",
   "name": "python3"
  },
  "language_info": {
   "codemirror_mode": {
    "name": "ipython",
    "version": 3
   },
   "file_extension": ".py",
   "mimetype": "text/x-python",
   "name": "python",
   "nbconvert_exporter": "python",
   "pygments_lexer": "ipython3",
   "version": "3.10.8"
  }
 },
 "nbformat": 4,
 "nbformat_minor": 5
}
